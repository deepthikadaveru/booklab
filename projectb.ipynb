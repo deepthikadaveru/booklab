{
 "cells": [
  {
   "cell_type": "code",
   "execution_count": 8,
   "id": "848de5a6-50e7-440f-b3a8-25be0a5dd99b",
   "metadata": {},
   "outputs": [
    {
     "name": "stdout",
     "output_type": "stream",
     "text": [
      "Requirement already satisfied: pandas in c:\\users\\k raju\\anaconda3\\lib\\site-packages (2.2.2)\n",
      "Requirement already satisfied: numpy in c:\\users\\k raju\\anaconda3\\lib\\site-packages (1.26.4)\n",
      "Requirement already satisfied: scikit-learn in c:\\users\\k raju\\anaconda3\\lib\\site-packages (1.5.1)\n",
      "Requirement already satisfied: matplotlib in c:\\users\\k raju\\anaconda3\\lib\\site-packages (3.9.2)\n",
      "Requirement already satisfied: seaborn in c:\\users\\k raju\\anaconda3\\lib\\site-packages (0.13.2)\n",
      "Requirement already satisfied: streamlit in c:\\users\\k raju\\anaconda3\\lib\\site-packages (1.37.1)\n",
      "Requirement already satisfied: plotly in c:\\users\\k raju\\anaconda3\\lib\\site-packages (5.24.1)\n",
      "Requirement already satisfied: python-dateutil>=2.8.2 in c:\\users\\k raju\\anaconda3\\lib\\site-packages (from pandas) (2.9.0.post0)\n",
      "Requirement already satisfied: pytz>=2020.1 in c:\\users\\k raju\\anaconda3\\lib\\site-packages (from pandas) (2024.1)\n",
      "Requirement already satisfied: tzdata>=2022.7 in c:\\users\\k raju\\anaconda3\\lib\\site-packages (from pandas) (2023.3)\n",
      "Requirement already satisfied: scipy>=1.6.0 in c:\\users\\k raju\\anaconda3\\lib\\site-packages (from scikit-learn) (1.13.1)\n",
      "Requirement already satisfied: joblib>=1.2.0 in c:\\users\\k raju\\anaconda3\\lib\\site-packages (from scikit-learn) (1.4.2)\n",
      "Requirement already satisfied: threadpoolctl>=3.1.0 in c:\\users\\k raju\\anaconda3\\lib\\site-packages (from scikit-learn) (3.5.0)\n",
      "Requirement already satisfied: contourpy>=1.0.1 in c:\\users\\k raju\\anaconda3\\lib\\site-packages (from matplotlib) (1.2.0)\n",
      "Requirement already satisfied: cycler>=0.10 in c:\\users\\k raju\\anaconda3\\lib\\site-packages (from matplotlib) (0.11.0)\n",
      "Requirement already satisfied: fonttools>=4.22.0 in c:\\users\\k raju\\anaconda3\\lib\\site-packages (from matplotlib) (4.51.0)\n",
      "Requirement already satisfied: kiwisolver>=1.3.1 in c:\\users\\k raju\\anaconda3\\lib\\site-packages (from matplotlib) (1.4.4)\n",
      "Requirement already satisfied: packaging>=20.0 in c:\\users\\k raju\\anaconda3\\lib\\site-packages (from matplotlib) (24.1)\n",
      "Requirement already satisfied: pillow>=8 in c:\\users\\k raju\\anaconda3\\lib\\site-packages (from matplotlib) (10.4.0)\n",
      "Requirement already satisfied: pyparsing>=2.3.1 in c:\\users\\k raju\\anaconda3\\lib\\site-packages (from matplotlib) (3.1.2)\n",
      "Requirement already satisfied: altair<6,>=4.0 in c:\\users\\k raju\\anaconda3\\lib\\site-packages (from streamlit) (5.0.1)\n",
      "Requirement already satisfied: blinker<2,>=1.0.0 in c:\\users\\k raju\\anaconda3\\lib\\site-packages (from streamlit) (1.6.2)\n",
      "Requirement already satisfied: cachetools<6,>=4.0 in c:\\users\\k raju\\anaconda3\\lib\\site-packages (from streamlit) (5.3.3)\n",
      "Requirement already satisfied: click<9,>=7.0 in c:\\users\\k raju\\anaconda3\\lib\\site-packages (from streamlit) (8.1.7)\n",
      "Requirement already satisfied: protobuf<6,>=3.20 in c:\\users\\k raju\\anaconda3\\lib\\site-packages (from streamlit) (4.25.3)\n",
      "Requirement already satisfied: pyarrow>=7.0 in c:\\users\\k raju\\anaconda3\\lib\\site-packages (from streamlit) (16.1.0)\n",
      "Requirement already satisfied: requests<3,>=2.27 in c:\\users\\k raju\\anaconda3\\lib\\site-packages (from streamlit) (2.32.3)\n",
      "Requirement already satisfied: rich<14,>=10.14.0 in c:\\users\\k raju\\anaconda3\\lib\\site-packages (from streamlit) (13.7.1)\n",
      "Requirement already satisfied: tenacity<9,>=8.1.0 in c:\\users\\k raju\\anaconda3\\lib\\site-packages (from streamlit) (8.2.3)\n",
      "Requirement already satisfied: toml<2,>=0.10.1 in c:\\users\\k raju\\anaconda3\\lib\\site-packages (from streamlit) (0.10.2)\n",
      "Requirement already satisfied: typing-extensions<5,>=4.3.0 in c:\\users\\k raju\\anaconda3\\lib\\site-packages (from streamlit) (4.11.0)\n",
      "Requirement already satisfied: gitpython!=3.1.19,<4,>=3.0.7 in c:\\users\\k raju\\anaconda3\\lib\\site-packages (from streamlit) (3.1.43)\n",
      "Requirement already satisfied: pydeck<1,>=0.8.0b4 in c:\\users\\k raju\\anaconda3\\lib\\site-packages (from streamlit) (0.8.0)\n",
      "Requirement already satisfied: tornado<7,>=6.0.3 in c:\\users\\k raju\\anaconda3\\lib\\site-packages (from streamlit) (6.4.1)\n",
      "Requirement already satisfied: watchdog<5,>=2.1.5 in c:\\users\\k raju\\anaconda3\\lib\\site-packages (from streamlit) (4.0.1)\n",
      "Requirement already satisfied: jinja2 in c:\\users\\k raju\\anaconda3\\lib\\site-packages (from altair<6,>=4.0->streamlit) (3.1.4)\n",
      "Requirement already satisfied: jsonschema>=3.0 in c:\\users\\k raju\\anaconda3\\lib\\site-packages (from altair<6,>=4.0->streamlit) (4.23.0)\n",
      "Requirement already satisfied: toolz in c:\\users\\k raju\\anaconda3\\lib\\site-packages (from altair<6,>=4.0->streamlit) (0.12.0)\n",
      "Requirement already satisfied: colorama in c:\\users\\k raju\\anaconda3\\lib\\site-packages (from click<9,>=7.0->streamlit) (0.4.6)\n",
      "Requirement already satisfied: gitdb<5,>=4.0.1 in c:\\users\\k raju\\anaconda3\\lib\\site-packages (from gitpython!=3.1.19,<4,>=3.0.7->streamlit) (4.0.7)\n",
      "Requirement already satisfied: six>=1.5 in c:\\users\\k raju\\anaconda3\\lib\\site-packages (from python-dateutil>=2.8.2->pandas) (1.16.0)\n",
      "Requirement already satisfied: charset-normalizer<4,>=2 in c:\\users\\k raju\\anaconda3\\lib\\site-packages (from requests<3,>=2.27->streamlit) (3.3.2)\n",
      "Requirement already satisfied: idna<4,>=2.5 in c:\\users\\k raju\\anaconda3\\lib\\site-packages (from requests<3,>=2.27->streamlit) (3.7)\n",
      "Requirement already satisfied: urllib3<3,>=1.21.1 in c:\\users\\k raju\\anaconda3\\lib\\site-packages (from requests<3,>=2.27->streamlit) (2.2.3)\n",
      "Requirement already satisfied: certifi>=2017.4.17 in c:\\users\\k raju\\anaconda3\\lib\\site-packages (from requests<3,>=2.27->streamlit) (2025.4.26)\n",
      "Requirement already satisfied: markdown-it-py>=2.2.0 in c:\\users\\k raju\\anaconda3\\lib\\site-packages (from rich<14,>=10.14.0->streamlit) (2.2.0)\n",
      "Requirement already satisfied: pygments<3.0.0,>=2.13.0 in c:\\users\\k raju\\anaconda3\\lib\\site-packages (from rich<14,>=10.14.0->streamlit) (2.15.1)\n",
      "Requirement already satisfied: smmap<5,>=3.0.1 in c:\\users\\k raju\\anaconda3\\lib\\site-packages (from gitdb<5,>=4.0.1->gitpython!=3.1.19,<4,>=3.0.7->streamlit) (4.0.0)\n",
      "Requirement already satisfied: MarkupSafe>=2.0 in c:\\users\\k raju\\anaconda3\\lib\\site-packages (from jinja2->altair<6,>=4.0->streamlit) (2.1.3)\n",
      "Requirement already satisfied: attrs>=22.2.0 in c:\\users\\k raju\\anaconda3\\lib\\site-packages (from jsonschema>=3.0->altair<6,>=4.0->streamlit) (23.1.0)\n",
      "Requirement already satisfied: jsonschema-specifications>=2023.03.6 in c:\\users\\k raju\\anaconda3\\lib\\site-packages (from jsonschema>=3.0->altair<6,>=4.0->streamlit) (2023.7.1)\n",
      "Requirement already satisfied: referencing>=0.28.4 in c:\\users\\k raju\\anaconda3\\lib\\site-packages (from jsonschema>=3.0->altair<6,>=4.0->streamlit) (0.30.2)\n",
      "Requirement already satisfied: rpds-py>=0.7.1 in c:\\users\\k raju\\anaconda3\\lib\\site-packages (from jsonschema>=3.0->altair<6,>=4.0->streamlit) (0.10.6)\n",
      "Requirement already satisfied: mdurl~=0.1 in c:\\users\\k raju\\anaconda3\\lib\\site-packages (from markdown-it-py>=2.2.0->rich<14,>=10.14.0->streamlit) (0.1.0)\n"
     ]
    }
   ],
   "source": [
    "!pip install pandas numpy scikit-learn matplotlib seaborn streamlit plotly\n"
   ]
  },
  {
   "cell_type": "code",
   "execution_count": 11,
   "id": "394c0d6e-8d43-4c80-8fa6-6606c53a43d3",
   "metadata": {},
   "outputs": [],
   "source": [
    "# Data handling\n",
    "import pandas as pd\n",
    "import numpy as np\n",
    "\n",
    "# Visualization\n",
    "import matplotlib.pyplot as plt\n",
    "import seaborn as sns\n",
    "import plotly.express as px\n",
    "\n",
    "# ML\n",
    "from sklearn.model_selection import train_test_split\n",
    "from sklearn.ensemble import RandomForestRegressor, RandomForestClassifier\n",
    "from sklearn.metrics import mean_squared_error, r2_score, accuracy_score, f1_score\n",
    "from sklearn.preprocessing import LabelEncoder\n",
    "\n",
    "# Recommendation\n",
    "from sklearn.metrics.pairwise import cosine_similarity\n"
   ]
  },
  {
   "cell_type": "code",
   "execution_count": 14,
   "id": "2509a822-5013-4b68-b708-24cfa5c8f8ca",
   "metadata": {},
   "outputs": [
    {
     "name": "stdout",
     "output_type": "stream",
     "text": [
      "Dataset shape: (11119, 12)\n",
      "<class 'pandas.core.frame.DataFrame'>\n",
      "RangeIndex: 11119 entries, 0 to 11118\n",
      "Data columns (total 12 columns):\n",
      " #   Column              Non-Null Count  Dtype  \n",
      "---  ------              --------------  -----  \n",
      " 0   bookID              11119 non-null  int64  \n",
      " 1   title               11119 non-null  object \n",
      " 2   authors             11119 non-null  object \n",
      " 3   average_rating      11119 non-null  float64\n",
      " 4   isbn                11119 non-null  object \n",
      " 5   isbn13              11119 non-null  int64  \n",
      " 6   language_code       11119 non-null  object \n",
      " 7     num_pages         11119 non-null  int64  \n",
      " 8   ratings_count       11119 non-null  int64  \n",
      " 9   text_reviews_count  11119 non-null  int64  \n",
      " 10  publication_date    11119 non-null  object \n",
      " 11  publisher           11119 non-null  object \n",
      "dtypes: float64(1), int64(5), object(6)\n",
      "memory usage: 1.0+ MB\n"
     ]
    }
   ],
   "source": [
    "print(\"Dataset shape:\", df.shape)\n",
    "df.head()\n",
    "df.info()\n"
   ]
  },
  {
   "cell_type": "code",
   "execution_count": 15,
   "id": "cd8acb7e-1b47-43b6-8ab6-97289922aef4",
   "metadata": {},
   "outputs": [],
   "source": [
    "df['authors'] = df['authors'].str.strip()\n"
   ]
  },
  {
   "cell_type": "code",
   "execution_count": 16,
   "id": "baef3bf3-37b7-4163-81bc-75cf1ee58719",
   "metadata": {},
   "outputs": [],
   "source": [
    "df['publication_year'] = pd.to_datetime(df['publication_date'], errors='coerce').dt.year\n",
    "df['book_age'] = 2025 - df['publication_year']  # assuming current year = 2025\n"
   ]
  },
  {
   "cell_type": "code",
   "execution_count": 17,
   "id": "e7943a5b-57f7-4018-975f-5d067f4597c3",
   "metadata": {},
   "outputs": [
    {
     "data": {
      "text/plain": [
       "bookID                0\n",
       "title                 0\n",
       "authors               0\n",
       "average_rating        0\n",
       "isbn                  0\n",
       "isbn13                0\n",
       "language_code         0\n",
       "  num_pages           0\n",
       "ratings_count         0\n",
       "text_reviews_count    0\n",
       "publication_date      0\n",
       "publisher             0\n",
       "publication_year      2\n",
       "book_age              2\n",
       "dtype: int64"
      ]
     },
     "execution_count": 17,
     "metadata": {},
     "output_type": "execute_result"
    }
   ],
   "source": [
    "df.isnull().sum()\n"
   ]
  },
  {
   "cell_type": "code",
   "execution_count": 18,
   "id": "91450b7e-a401-44b9-b397-df8576940293",
   "metadata": {},
   "outputs": [],
   "source": [
    "df['book_age'] = df['book_age'].fillna(df['book_age'].median())\n"
   ]
  },
  {
   "cell_type": "code",
   "execution_count": 19,
   "id": "b32b2bec-8a0e-4118-8c58-2c7e8a2a5401",
   "metadata": {},
   "outputs": [],
   "source": [
    "author_stats = df.groupby('authors').agg({\n",
    "    'average_rating':'mean',\n",
    "    'ratings_count':'sum',\n",
    "    'bookID':'count'\n",
    "}).rename(columns={'bookID':'num_books'}).reset_index()\n",
    "\n",
    "df = df.merge(author_stats, on='authors', how='left', suffixes=('','_author'))\n",
    "\n",
    "df['author_influence'] = (df['average_rating_author']*0.5 +\n",
    "                          np.log1p(df['ratings_count_author'])*0.3 +\n",
    "                          np.log1p(df['num_books'])*0.2)\n"
   ]
  },
  {
   "cell_type": "code",
   "execution_count": 20,
   "id": "fc64bc8c-053f-4b0f-9666-b1cbcfd42bb6",
   "metadata": {},
   "outputs": [],
   "source": [
    "# ==============================================\n",
    "# Step 0: Import Libraries\n",
    "# ==============================================\n",
    "import pandas as pd\n",
    "import numpy as np\n",
    "import matplotlib.pyplot as plt\n",
    "import seaborn as sns\n",
    "from sklearn.model_selection import train_test_split\n",
    "from sklearn.ensemble import RandomForestRegressor, RandomForestClassifier\n",
    "from sklearn.metrics import mean_squared_error, r2_score, accuracy_score, f1_score\n",
    "from sklearn.metrics.pairwise import cosine_similarity\n",
    "\n",
    "# Optional: Plotly for interactive visualization\n",
    "import plotly.express as px\n"
   ]
  },
  {
   "cell_type": "code",
   "execution_count": 21,
   "id": "cb863989-efe3-4a80-a468-f84ebadf69ab",
   "metadata": {},
   "outputs": [
    {
     "name": "stdout",
     "output_type": "stream",
     "text": [
      "Current Working Directory: D:\\projectB\n",
      "Dataset loaded successfully!\n",
      "Shape: (11119, 12)\n"
     ]
    },
    {
     "data": {
      "text/html": [
       "<div>\n",
       "<style scoped>\n",
       "    .dataframe tbody tr th:only-of-type {\n",
       "        vertical-align: middle;\n",
       "    }\n",
       "\n",
       "    .dataframe tbody tr th {\n",
       "        vertical-align: top;\n",
       "    }\n",
       "\n",
       "    .dataframe thead th {\n",
       "        text-align: right;\n",
       "    }\n",
       "</style>\n",
       "<table border=\"1\" class=\"dataframe\">\n",
       "  <thead>\n",
       "    <tr style=\"text-align: right;\">\n",
       "      <th></th>\n",
       "      <th>bookID</th>\n",
       "      <th>title</th>\n",
       "      <th>authors</th>\n",
       "      <th>average_rating</th>\n",
       "      <th>isbn</th>\n",
       "      <th>isbn13</th>\n",
       "      <th>language_code</th>\n",
       "      <th>num_pages</th>\n",
       "      <th>ratings_count</th>\n",
       "      <th>text_reviews_count</th>\n",
       "      <th>publication_date</th>\n",
       "      <th>publisher</th>\n",
       "    </tr>\n",
       "  </thead>\n",
       "  <tbody>\n",
       "    <tr>\n",
       "      <th>0</th>\n",
       "      <td>1</td>\n",
       "      <td>Harry Potter and the Half-Blood Prince (Harry ...</td>\n",
       "      <td>J.K. Rowling/Mary GrandPré</td>\n",
       "      <td>4.57</td>\n",
       "      <td>0439785960</td>\n",
       "      <td>9780439785969</td>\n",
       "      <td>eng</td>\n",
       "      <td>652</td>\n",
       "      <td>2095690</td>\n",
       "      <td>27591</td>\n",
       "      <td>9/16/2006</td>\n",
       "      <td>Scholastic Inc.</td>\n",
       "    </tr>\n",
       "    <tr>\n",
       "      <th>1</th>\n",
       "      <td>2</td>\n",
       "      <td>Harry Potter and the Order of the Phoenix (Har...</td>\n",
       "      <td>J.K. Rowling/Mary GrandPré</td>\n",
       "      <td>4.49</td>\n",
       "      <td>0439358078</td>\n",
       "      <td>9780439358071</td>\n",
       "      <td>eng</td>\n",
       "      <td>870</td>\n",
       "      <td>2153167</td>\n",
       "      <td>29221</td>\n",
       "      <td>9/1/2004</td>\n",
       "      <td>Scholastic Inc.</td>\n",
       "    </tr>\n",
       "    <tr>\n",
       "      <th>2</th>\n",
       "      <td>4</td>\n",
       "      <td>Harry Potter and the Chamber of Secrets (Harry...</td>\n",
       "      <td>J.K. Rowling</td>\n",
       "      <td>4.42</td>\n",
       "      <td>0439554896</td>\n",
       "      <td>9780439554893</td>\n",
       "      <td>eng</td>\n",
       "      <td>352</td>\n",
       "      <td>6333</td>\n",
       "      <td>244</td>\n",
       "      <td>11/1/2003</td>\n",
       "      <td>Scholastic</td>\n",
       "    </tr>\n",
       "    <tr>\n",
       "      <th>3</th>\n",
       "      <td>5</td>\n",
       "      <td>Harry Potter and the Prisoner of Azkaban (Harr...</td>\n",
       "      <td>J.K. Rowling/Mary GrandPré</td>\n",
       "      <td>4.56</td>\n",
       "      <td>043965548X</td>\n",
       "      <td>9780439655484</td>\n",
       "      <td>eng</td>\n",
       "      <td>435</td>\n",
       "      <td>2339585</td>\n",
       "      <td>36325</td>\n",
       "      <td>5/1/2004</td>\n",
       "      <td>Scholastic Inc.</td>\n",
       "    </tr>\n",
       "    <tr>\n",
       "      <th>4</th>\n",
       "      <td>8</td>\n",
       "      <td>Harry Potter Boxed Set  Books 1-5 (Harry Potte...</td>\n",
       "      <td>J.K. Rowling/Mary GrandPré</td>\n",
       "      <td>4.78</td>\n",
       "      <td>0439682584</td>\n",
       "      <td>9780439682589</td>\n",
       "      <td>eng</td>\n",
       "      <td>2690</td>\n",
       "      <td>41428</td>\n",
       "      <td>164</td>\n",
       "      <td>9/13/2004</td>\n",
       "      <td>Scholastic</td>\n",
       "    </tr>\n",
       "  </tbody>\n",
       "</table>\n",
       "</div>"
      ],
      "text/plain": [
       "   bookID                                              title  \\\n",
       "0       1  Harry Potter and the Half-Blood Prince (Harry ...   \n",
       "1       2  Harry Potter and the Order of the Phoenix (Har...   \n",
       "2       4  Harry Potter and the Chamber of Secrets (Harry...   \n",
       "3       5  Harry Potter and the Prisoner of Azkaban (Harr...   \n",
       "4       8  Harry Potter Boxed Set  Books 1-5 (Harry Potte...   \n",
       "\n",
       "                      authors  average_rating        isbn         isbn13  \\\n",
       "0  J.K. Rowling/Mary GrandPré            4.57  0439785960  9780439785969   \n",
       "1  J.K. Rowling/Mary GrandPré            4.49  0439358078  9780439358071   \n",
       "2                J.K. Rowling            4.42  0439554896  9780439554893   \n",
       "3  J.K. Rowling/Mary GrandPré            4.56  043965548X  9780439655484   \n",
       "4  J.K. Rowling/Mary GrandPré            4.78  0439682584  9780439682589   \n",
       "\n",
       "  language_code    num_pages  ratings_count  text_reviews_count  \\\n",
       "0           eng          652        2095690               27591   \n",
       "1           eng          870        2153167               29221   \n",
       "2           eng          352           6333                 244   \n",
       "3           eng          435        2339585               36325   \n",
       "4           eng         2690          41428                 164   \n",
       "\n",
       "  publication_date        publisher  \n",
       "0        9/16/2006  Scholastic Inc.  \n",
       "1         9/1/2004  Scholastic Inc.  \n",
       "2        11/1/2003       Scholastic  \n",
       "3         5/1/2004  Scholastic Inc.  \n",
       "4        9/13/2004       Scholastic  "
      ]
     },
     "execution_count": 21,
     "metadata": {},
     "output_type": "execute_result"
    }
   ],
   "source": [
    "# ==============================================\n",
    "# Step 1: Load Dataset safely\n",
    "# ==============================================\n",
    "import os\n",
    "os.chdir(r\"D:/projectB\")  # Change to your folder containing CSV\n",
    "print(\"Current Working Directory:\", os.getcwd())\n",
    "\n",
    "# Load CSV safely, skip malformed lines\n",
    "df = pd.read_csv(\n",
    "    \"books.csv\",\n",
    "    engine='python',\n",
    "    on_bad_lines='skip',\n",
    "    quotechar='\"',\n",
    "    encoding='utf-8'\n",
    ")\n",
    "\n",
    "print(\"Dataset loaded successfully!\")\n",
    "print(\"Shape:\", df.shape)\n",
    "df.head()\n"
   ]
  },
  {
   "cell_type": "code",
   "execution_count": 22,
   "id": "67840ca4-e8af-4055-9d0a-b39dfe91b678",
   "metadata": {},
   "outputs": [
    {
     "name": "stdout",
     "output_type": "stream",
     "text": [
      "bookID                0\n",
      "title                 0\n",
      "authors               0\n",
      "average_rating        0\n",
      "isbn                  0\n",
      "isbn13                0\n",
      "language_code         0\n",
      "  num_pages           0\n",
      "ratings_count         0\n",
      "text_reviews_count    0\n",
      "publication_date      0\n",
      "publisher             0\n",
      "publication_year      2\n",
      "book_age              2\n",
      "dtype: int64\n"
     ]
    }
   ],
   "source": [
    "# ==============================================\n",
    "# Step 2: Data Cleaning\n",
    "# ==============================================\n",
    "# Strip extra spaces in author names\n",
    "df['authors'] = df['authors'].str.strip()\n",
    "\n",
    "# Extract publication year\n",
    "df['publication_year'] = pd.to_datetime(df['publication_date'], errors='coerce').dt.year\n",
    "df['book_age'] = 2025 - df['publication_year']  # assuming current year = 2025\n",
    "\n",
    "# Check for missing values\n",
    "print(df.isnull().sum())\n",
    "\n",
    "# Fill missing book_age if any\n",
    "df['book_age'] = df['book_age'].fillna(df['book_age'].median())\n"
   ]
  },
  {
   "cell_type": "code",
   "execution_count": 23,
   "id": "5af5f2a8-ac97-408b-9755-f9041e1efd88",
   "metadata": {},
   "outputs": [
    {
     "data": {
      "text/html": [
       "<div>\n",
       "<style scoped>\n",
       "    .dataframe tbody tr th:only-of-type {\n",
       "        vertical-align: middle;\n",
       "    }\n",
       "\n",
       "    .dataframe tbody tr th {\n",
       "        vertical-align: top;\n",
       "    }\n",
       "\n",
       "    .dataframe thead th {\n",
       "        text-align: right;\n",
       "    }\n",
       "</style>\n",
       "<table border=\"1\" class=\"dataframe\">\n",
       "  <thead>\n",
       "    <tr style=\"text-align: right;\">\n",
       "      <th></th>\n",
       "      <th>title</th>\n",
       "      <th>authors</th>\n",
       "      <th>average_rating</th>\n",
       "      <th>author_influence</th>\n",
       "      <th>publisher_influence</th>\n",
       "      <th>book_age</th>\n",
       "    </tr>\n",
       "  </thead>\n",
       "  <tbody>\n",
       "    <tr>\n",
       "      <th>0</th>\n",
       "      <td>Harry Potter and the Half-Blood Prince (Harry ...</td>\n",
       "      <td>J.K. Rowling/Mary GrandPré</td>\n",
       "      <td>4.57</td>\n",
       "      <td>7.464625</td>\n",
       "      <td>4.059231</td>\n",
       "      <td>19.0</td>\n",
       "    </tr>\n",
       "    <tr>\n",
       "      <th>1</th>\n",
       "      <td>Harry Potter and the Order of the Phoenix (Har...</td>\n",
       "      <td>J.K. Rowling/Mary GrandPré</td>\n",
       "      <td>4.49</td>\n",
       "      <td>7.464625</td>\n",
       "      <td>4.059231</td>\n",
       "      <td>21.0</td>\n",
       "    </tr>\n",
       "    <tr>\n",
       "      <th>2</th>\n",
       "      <td>Harry Potter and the Chamber of Secrets (Harry...</td>\n",
       "      <td>J.K. Rowling</td>\n",
       "      <td>4.42</td>\n",
       "      <td>6.121552</td>\n",
       "      <td>3.975758</td>\n",
       "      <td>22.0</td>\n",
       "    </tr>\n",
       "    <tr>\n",
       "      <th>3</th>\n",
       "      <td>Harry Potter and the Prisoner of Azkaban (Harr...</td>\n",
       "      <td>J.K. Rowling/Mary GrandPré</td>\n",
       "      <td>4.56</td>\n",
       "      <td>7.464625</td>\n",
       "      <td>4.059231</td>\n",
       "      <td>21.0</td>\n",
       "    </tr>\n",
       "    <tr>\n",
       "      <th>4</th>\n",
       "      <td>Harry Potter Boxed Set  Books 1-5 (Harry Potte...</td>\n",
       "      <td>J.K. Rowling/Mary GrandPré</td>\n",
       "      <td>4.78</td>\n",
       "      <td>7.464625</td>\n",
       "      <td>3.975758</td>\n",
       "      <td>21.0</td>\n",
       "    </tr>\n",
       "  </tbody>\n",
       "</table>\n",
       "</div>"
      ],
      "text/plain": [
       "                                               title  \\\n",
       "0  Harry Potter and the Half-Blood Prince (Harry ...   \n",
       "1  Harry Potter and the Order of the Phoenix (Har...   \n",
       "2  Harry Potter and the Chamber of Secrets (Harry...   \n",
       "3  Harry Potter and the Prisoner of Azkaban (Harr...   \n",
       "4  Harry Potter Boxed Set  Books 1-5 (Harry Potte...   \n",
       "\n",
       "                      authors  average_rating  author_influence  \\\n",
       "0  J.K. Rowling/Mary GrandPré            4.57          7.464625   \n",
       "1  J.K. Rowling/Mary GrandPré            4.49          7.464625   \n",
       "2                J.K. Rowling            4.42          6.121552   \n",
       "3  J.K. Rowling/Mary GrandPré            4.56          7.464625   \n",
       "4  J.K. Rowling/Mary GrandPré            4.78          7.464625   \n",
       "\n",
       "   publisher_influence  book_age  \n",
       "0             4.059231      19.0  \n",
       "1             4.059231      21.0  \n",
       "2             3.975758      22.0  \n",
       "3             4.059231      21.0  \n",
       "4             3.975758      21.0  "
      ]
     },
     "execution_count": 23,
     "metadata": {},
     "output_type": "execute_result"
    }
   ],
   "source": [
    "# ==============================================\n",
    "# Step 3: Feature Engineering\n",
    "# ==============================================\n",
    "# Author stats\n",
    "author_stats = df.groupby('authors').agg({\n",
    "    'average_rating':'mean',\n",
    "    'ratings_count':'sum',\n",
    "    'bookID':'count'\n",
    "}).rename(columns={'bookID':'num_books'}).reset_index()\n",
    "\n",
    "df = df.merge(author_stats, on='authors', how='left', suffixes=('','_author'))\n",
    "\n",
    "# Author Influence Score\n",
    "df['author_influence'] = (df['average_rating_author']*0.5 +\n",
    "                          np.log1p(df['ratings_count_author'])*0.3 +\n",
    "                          np.log1p(df['num_books'])*0.2)\n",
    "\n",
    "# Publisher stats\n",
    "publisher_stats = df.groupby('publisher')['average_rating'].mean().reset_index()\n",
    "publisher_stats.rename(columns={'average_rating':'publisher_influence'}, inplace=True)\n",
    "df = df.merge(publisher_stats, on='publisher', how='left')\n",
    "\n",
    "# Display updated dataset\n",
    "df[['title','authors','average_rating','author_influence','publisher_influence','book_age']].head()\n"
   ]
  },
  {
   "cell_type": "code",
   "execution_count": 24,
   "id": "23f553cb-5b03-453e-bb3e-9a567e46d1e4",
   "metadata": {},
   "outputs": [],
   "source": [
    "# ==============================================\n",
    "# Step 4: Define Features & Target\n",
    "# ==============================================\n",
    "features = ['ratings_count','text_reviews_count','author_influence','book_age','publisher_influence']\n",
    "X = df[features]\n",
    "y = df['average_rating']\n",
    "\n",
    "# Train-Test split\n",
    "X_train, X_test, y_train, y_test = train_test_split(X, y, test_size=0.2, random_state=42)\n"
   ]
  },
  {
   "cell_type": "code",
   "execution_count": 25,
   "id": "bcd0ed62-f738-40d7-b712-77c26d319449",
   "metadata": {},
   "outputs": [
    {
     "name": "stdout",
     "output_type": "stream",
     "text": [
      "RMSE: 0.203, R2: 0.637\n"
     ]
    }
   ],
   "source": [
    "# ==============================================\n",
    "# Step 5: Train ML Model - Random Forest Regressor\n",
    "# ==============================================\n",
    "rf = RandomForestRegressor(n_estimators=200, random_state=42)\n",
    "rf.fit(X_train, y_train)\n",
    "y_pred = rf.predict(X_test)\n",
    "\n",
    "# Evaluate\n",
    "from sklearn.metrics import mean_squared_error, root_mean_squared_error\n",
    "\n",
    "# For sklearn >=1.4\n",
    "rmse = root_mean_squared_error(y_test, y_pred)\n",
    "\n",
    "r2 = r2_score(y_test, y_pred)\n",
    "print(f\"RMSE: {rmse:.3f}, R2: {r2:.3f}\")\n",
    "\n"
   ]
  },
  {
   "cell_type": "code",
   "execution_count": 26,
   "id": "ee77cdfc-49e3-4273-b66a-77d2da7eafb3",
   "metadata": {},
   "outputs": [
    {
     "name": "stdout",
     "output_type": "stream",
     "text": [
      "ratings_count: 0.125\n",
      "text_reviews_count: 0.069\n",
      "author_influence: 0.460\n",
      "book_age: 0.045\n",
      "publisher_influence: 0.300\n"
     ]
    },
    {
     "data": {
      "image/png": "[encoded data removed]",
      "text/plain": [
       "<Figure size 800x500 with 1 Axes>"
      ]
     },
     "metadata": {},
     "output_type": "display_data"
    }
   ],
   "source": [
    "# ==============================================\n",
    "# Step 6: Feature Importance\n",
    "# ==============================================\n",
    "importances = rf.feature_importances_\n",
    "for feat, imp in zip(features, importances):\n",
    "    print(f\"{feat}: {imp:.3f}\")\n",
    "\n",
    "# Plot feature importance\n",
    "plt.figure(figsize=(8,5))\n",
    "sns.barplot(x=features, y=importances)\n",
    "plt.title(\"Feature Importance\")\n",
    "plt.show()\n"
   ]
  },
  {
   "cell_type": "code",
   "execution_count": 27,
   "id": "ceef594a-0705-4309-bec2-28b1aa3816ae",
   "metadata": {},
   "outputs": [
    {
     "name": "stdout",
     "output_type": "stream",
     "text": [
      "Classification Accuracy: 0.752248201438849\n",
      "F1 Score: 0.6923506420993858\n"
     ]
    }
   ],
   "source": [
    "# ==============================================\n",
    "# Step 7: Popularity Classification (Optional)\n",
    "# ==============================================\n",
    "df['popular'] = df['average_rating'].apply(lambda x:1 if x>4 else 0)\n",
    "\n",
    "clf = RandomForestClassifier(n_estimators=200, random_state=42)\n",
    "clf.fit(X_train, df.loc[X_train.index,'popular'])\n",
    "\n",
    "y_class_pred = clf.predict(X_test)\n",
    "print(\"Classification Accuracy:\", accuracy_score(df.loc[X_test.index,'popular'], y_class_pred))\n",
    "print(\"F1 Score:\", f1_score(df.loc[X_test.index,'popular'], y_class_pred))\n"
   ]
  },
  {
   "cell_type": "code",
   "execution_count": null,
   "id": "d085db44-81be-4268-8089-f0dc60bfcbe1",
   "metadata": {},
   "outputs": [],
   "source": []
  },
  {
   "cell_type": "code",
   "execution_count": 28,
   "id": "9b04ad48-155a-43a5-9908-2d32757b2934",
   "metadata": {},
   "outputs": [
    {
     "data": {
      "text/plain": [
       "['Landing',\n",
       " 'Sula',\n",
       " 'Missing Mom',\n",
       " 'Her Smoke Rose Up Forever',\n",
       " 'Rape: A Love Story']"
      ]
     },
     "execution_count": 28,
     "metadata": {},
     "output_type": "execute_result"
    }
   ],
   "source": [
    "# ==============================================\n",
    "# Step 8: Content-Based Book Recommendation\n",
    "# ==============================================\n",
    "book_features = df[features].values\n",
    "similarity_matrix = cosine_similarity(book_features)\n",
    "\n",
    "def recommend_books(book_title, top_n=5):\n",
    "    if book_title not in df['title'].values:\n",
    "        return \"Book not found\"\n",
    "    idx = df.index[df['title']==book_title][0]\n",
    "    sim_scores = list(enumerate(similarity_matrix[idx]))\n",
    "    sim_scores = sorted(sim_scores,key=lambda x:x[1],reverse=True)[1:top_n+1]\n",
    "    return [df.iloc[i[0]]['title'] for i in sim_scores]\n",
    "\n",
    "# Test\n",
    "recommend_books(\"The Hobbit\")\n"
   ]
  },
  {
   "cell_type": "code",
   "execution_count": 29,
   "id": "b943b8a4-2584-4e3f-8699-02fde56c5f73",
   "metadata": {},
   "outputs": [
    {
     "data": {
      "image/png": "[encoded data removed]",
      "text/plain": [
       "<Figure size 1000x500 with 1 Axes>"
      ]
     },
     "metadata": {},
     "output_type": "display_data"
    },
    {
     "data": {
      "image/png": "[encoded data removed]",
      "text/plain": [
       "<Figure size 640x480 with 1 Axes>"
      ]
     },
     "metadata": {},
     "output_type": "display_data"
    }
   ],
   "source": [
    "# ==============================================\n",
    "# Step 9: Visualizations\n",
    "# ==============================================\n",
    "# Top 10 authors by influence\n",
    "top_authors = df.sort_values('author_influence',ascending=False).head(10)\n",
    "plt.figure(figsize=(10,5))\n",
    "sns.barplot(x='authors', y='author_influence', data=top_authors)\n",
    "plt.xticks(rotation=45)\n",
    "plt.title(\"Top 10 Authors by Influence\")\n",
    "plt.show()\n",
    "\n",
    "# Predicted ratings distribution\n",
    "sns.histplot(y_pred, bins=20)\n",
    "plt.title(\"Predicted Ratings Distribution\")\n",
    "plt.show()\n"
   ]
  },
  {
   "cell_type": "code",
   "execution_count": 32,
   "id": "1bf83afb-d5a0-4700-bf2a-901e87784143",
   "metadata": {},
   "outputs": [
    {
     "name": "stdout",
     "output_type": "stream",
     "text": [
      "Cleaned dataset saved for future use!\n"
     ]
    }
   ],
   "source": [
    "# ==============================================\n",
    "# Step 10: Save Cleaned & Feature-Engineered Data\n",
    "# ==============================================\n",
    "df.to_csv(\"books_cleaned_featured.csv\", index=False)\n",
    "print(\"Cleaned dataset saved for future use!\")\n"
   ]
  },
  {
   "cell_type": "code",
   "execution_count": 49,
   "id": "21676908-aa46-426f-a031-b6fa0b70dc88",
   "metadata": {},
   "outputs": [
    {
     "data": {
      "text/plain": [
       "['models/rf_classifier.pkl']"
      ]
     },
     "execution_count": 49,
     "metadata": {},
     "output_type": "execute_result"
    }
   ],
   "source": [
    "import joblib\n",
    "import os\n",
    "\n",
    "# Create a folder for models if it doesn't exist\n",
    "os.makedirs(\"models\", exist_ok=True)\n",
    "\n",
    "# Save the regression model\n",
    "joblib.dump(rf, \"models/rf_regressor.pkl\")\n",
    "\n",
    "# Save the classification model\n",
    "joblib.dump(clf, \"models/rf_classifier.pkl\")\n"
   ]
  },
  {
   "cell_type": "code",
   "execution_count": 1,
   "id": "8cb62da7-42fc-4c54-b9cc-9d653d73b8db",
   "metadata": {},
   "outputs": [
    {
     "data": {
      "text/plain": [
       "['rf_classifier.pkl', 'rf_regressor.pkl']"
      ]
     },
     "execution_count": 1,
     "metadata": {},
     "output_type": "execute_result"
    }
   ],
   "source": [
    "import os\n",
    "os.listdir(\"D:/projectB/models\")\n"
   ]
  },
  {
   "cell_type": "code",
   "execution_count": 3,
   "id": "70017daf-6bd2-42b8-83c8-5b77595fa6b5",
   "metadata": {},
   "outputs": [
    {
     "name": "stdout",
     "output_type": "stream",
     "text": [
      "[]\n"
     ]
    }
   ],
   "source": [
    "print([name for name in globals() if 'RandomForest' in str(type(globals()[name]))])\n"
   ]
  },
  {
   "cell_type": "code",
   "execution_count": 32,
   "id": "667ebc19-0493-443f-9fec-3e342391221a",
   "metadata": {},
   "outputs": [
    {
     "data": {
      "text/plain": [
       "['models/similarity_matrix.pkl']"
      ]
     },
     "execution_count": 32,
     "metadata": {},
     "output_type": "execute_result"
    }
   ],
   "source": [
    "import joblib\n",
    "import os\n",
    "from sklearn.metrics.pairwise import cosine_similarity\n",
    "\n",
    "os.makedirs(\"models\", exist_ok=True)  # create folder if not exists\n",
    "\n",
    "# Save the trained models\n",
    "joblib.dump(rf, \"models/rf_regressor.pkl\")    # rf is your trained regressor\n",
    "joblib.dump(clf, \"models/rf_classifier.pkl\") # clf is your trained classifier\n",
    "\n",
    "# Precompute similarity matrix once and save\n",
    "similarity_matrix = cosine_similarity(df[features].values)\n",
    "joblib.dump(similarity_matrix, \"models/similarity_matrix.pkl\")\n"
   ]
  },
  {
   "cell_type": "code",
   "execution_count": null,
   "id": "6589389e-2d0b-4289-a0c3-c2965818e9e5",
   "metadata": {},
   "outputs": [],
   "source": []
  }
 ],
 "metadata": {
  "kernelspec": {
   "display_name": "Python [conda env:base] *",
   "language": "python",
   "name": "conda-base-py"
  },
  "language_info": {
   "codemirror_mode": {
    "name": "ipython",
    "version": 3
   },
   "file_extension": ".py",
   "mimetype": "text/x-python",
   "name": "python",
   "nbconvert_exporter": "python",
   "pygments_lexer": "ipython3",
   "version": "3.12.7"
  }
 },
 "nbformat": 4,
 "nbformat_minor": 5
}
